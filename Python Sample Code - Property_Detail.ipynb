{
 "cells": [
  {
   "cell_type": "code",
   "execution_count": 5,
   "metadata": {},
   "outputs": [
    {
     "name": "stdout",
     "output_type": "stream",
     "text": [
      "('{\"status\":{\"version\":\"1.0.0\",\"code\":0,\"msg\":\"SuccessWithResult\",\"total\":1,\"page\":1,\"pagesize\":10,\"transactionID\":\"25916f1b2fb32fecc1d7f41e7a000603\",\"attomId\":184713191},\"property\":[{\"identifier\":{\"Id\":184713191,\"fips\":\"08031\",\"apn\":\"02192-04-018-000\",\"attomId\":184713191},\"lot\":{\"lotnum\":\"31,32\",\"lotsize1\":0.1076676,\"lotsize2\":4690,\"pooltype\":\"NO '\n",
      " 'POOL\"},\"area\":{\"blockNum\":\"36\",\"loctype\":\"VIEW - '\n",
      " 'NONE\",\"countrysecsubd\":\"Denver\",\"countyuse1\":\"113  '\n",
      " '\",\"muncode\":\"DE\",\"munname\":\"DENVER\",\"srvyRange\":\"68W\",\"srvySection\":\"19\",\"srvyTownship\":\"03S\",\"subdname\":\"BERKELEY\",\"taxcodearea\":\"DENV\"},\"address\":{\"country\":\"US\",\"countrySubd\":\"CO\",\"line1\":\"4529 '\n",
      " 'WINONA CT\",\"line2\":\"DENVER, CO '\n",
      " '80212\",\"locality\":\"DENVER\",\"matchCode\":\"ExaStr\",\"oneLine\":\"4529 WINONA CT, '\n",
      " 'DENVER, CO '\n",
      " '80212\",\"postal1\":\"80212\",\"postal2\":\"2512\",\"postal3\":\"C037\"},\"location\":{\"accuracy\":\"Rooftop\",\"latitude\":\"39.778926\",\"longitude\":\"-105.047775\",\"distance\":0.0,\"geoid\":\"CO08031, '\n",
      " 'CS0891007, DB0803360, ND0000119198, ND0004861239, PL0820000, SB0000076114, '\n",
      " 'SB0000076155, SB0000076161, SB0000135819, SB0000143772, '\n",
      " 'ZI80212\",\"geoIdV4\":{\"CO\":\"1291dc1937525d78f89cebb6a43a50de\",\"CS\":\"4c0507d0d7894d2d48e4e03e1c0240fc\",\"DB\":\"d8ca7ea08abbe9efdd7e3b78f23d120e\",\"N1\":\"b26d02d9330761156fc0cfd4ed8bf9a1\",\"N2\":\"27e220314436f6edd5e606ddcd28156d\",\"PL\":\"7de845f7ba9b234a2c5adfca1db76c64\",\"SB\":\"9e0b497fb1337405c4dfe64e51568f68, '\n",
      " '3b4cd5c56026e2e1f0e5c553b74cf05d, 93e5fef8956253c5642a335fc4a4395f, '\n",
      " '3d0771574d56c6eae9184bc5aa3ebe19, '\n",
      " '8a506b574561c5bab4f163492c7a386a\",\"ZI\":\"0149d0a55ef2d6b71071a39f4e13d6eb\"}},\"summary\":{\"absenteeInd\":\"OWNER '\n",
      " 'OCCUPIED\",\"propclass\":\"Single Family Residence / '\n",
      " 'Townhouse\",\"propsubtype\":\"Residential\",\"proptype\":\"SFR\",\"propertyType\":\"SINGLE '\n",
      " 'FAMILY '\n",
      " 'RESIDENCE\",\"yearbuilt\":1900,\"propLandUse\":\"SFR\",\"propIndicator\":\"10\",\"legal1\":\"BERKELEY '\n",
      " 'B36 L31 & S/2 OF L32 EXC REAR 8FT TO '\n",
      " 'CITY\"},\"utilities\":{\"heatingfuel\":\"GAS\",\"heatingtype\":\"CENTRAL\"},\"building\":{\"size\":{\"bldgsize\":934,\"grosssize\":1414,\"grosssizeadjusted\":934,\"groundfloorsize\":934,\"livingsize\":934,\"sizeInd\":\"LIVING '\n",
      " 'SQFT\",\"universalsize\":934},\"rooms\":{\"bathfixtures\":5,\"bathsfull\":1,\"bathstotal\":1.0,\"beds\":2,\"roomsTotal\":5},\"interior\":{\"bsmtsize\":480,\"fplccount\":1,\"fplcind\":\"Y\",\"fplctype\":\"YES\"},\"construction\":{\"condition\":\"GOOD\",\"wallType\":\"BRICK\"},\"parking\":{\"garagetype\":\"Garage, '\n",
      " 'Detached\",\"prkgSize\":240,\"prkgSpaces\":\"1\",\"prkgType\":\"Garage, '\n",
      " 'Detached\"},\"summary\":{\"archStyle\":\"OTHER\",\"levels\":1,\"quality\":\"EXCELLENT\",\"unitsCount\":\"1\",\"view\":\"VIEW '\n",
      " '- '\n",
      " 'NONE\",\"yearbuilteffective\":2014}},\"vintage\":{\"lastModified\":\"2023-05-12\",\"pubDate\":\"2023-05-12\"}}]}')\n"
     ]
    }
   ],
   "source": [
    "import http.client \n",
    "import pprint\n",
    "\n",
    "conn = http.client.HTTPSConnection(\"api.gateway.attomdata.com\") \n",
    "\n",
    "headers = { \n",
    "    'accept': \"application/json\", \n",
    "    'apikey': \"daf4e5a5ad39fca21b4e2d1df993a9fd\", \n",
    "    } \n",
    "\n",
    "conn.request(\"GET\", \"/propertyapi/v1.0.0/property/detail?address1=4529%20Winona%20Court&address2=Denver%2C%20CO\", headers=headers) \n",
    "\n",
    "res = conn.getresponse() \n",
    "data = res.read() \n",
    "\n",
    "pprint.pprint(data.decode(\"utf-8\"))"
   ]
  }
 ],
 "metadata": {
  "kernelspec": {
   "display_name": "Python 3",
   "language": "python",
   "name": "python3"
  },
  "language_info": {
   "codemirror_mode": {
    "name": "ipython",
    "version": 3
   },
   "file_extension": ".py",
   "mimetype": "text/x-python",
   "name": "python",
   "nbconvert_exporter": "python",
   "pygments_lexer": "ipython3",
   "version": "3.11.5"
  }
 },
 "nbformat": 4,
 "nbformat_minor": 2
}
