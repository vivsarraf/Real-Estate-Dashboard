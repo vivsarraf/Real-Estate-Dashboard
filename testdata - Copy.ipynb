{
 "cells": [
  {
   "cell_type": "code",
   "execution_count": 3,
   "metadata": {},
   "outputs": [
    {
     "name": "stdout",
     "output_type": "stream",
     "text": [
      "{\"version\":531,\"errorMessage\":\"Success\",\"resultCode\":0,\"payload\":{\"sections\":[{\"rows\":[{\"id\":\"6_438062\",\"type\":\"6\",\"name\":\"Toronto\",\"subName\":\"Salt Lake City, UT, USA\",\"url\":\"/neighborhood/438062/UT/Salt-Lake-City/Toronto\",\"active\":true,\"claimedHome\":false,\"invalidMRS\":false,\"businessMarketIds\":[64],\"countryCode\":\"US\",\"internalSearchVolume\":74},{\"id\":\"2_18156\",\"type\":\"2\",\"name\":\"Toronto\",\"subName\":\"Toronto, KS, USA\",\"url\":\"/city/18156/KS/Toronto\",\"active\":true,\"claimedHome\":false,\"invalidMRS\":false,\"businessMarketIds\":[123],\"countryCode\":\"US\",\"internalSearchVolume\":2},{\"id\":\"2_16338\",\"type\":\"2\",\"name\":\"Toronto\",\"subName\":\"Toronto, SD, USA\",\"url\":\"/city/16338/SD/Toronto\",\"active\":true,\"claimedHome\":false,\"invalidMRS\":false,\"businessMarketIds\":[121],\"countryCode\":\"US\",\"internalSearchVolume\":2},{\"id\":\"2_19800\",\"type\":\"2\",\"name\":\"Toronto\",\"subName\":\"Toronto, IA, USA\",\"url\":\"/city/19800/IA/Toronto\",\"active\":true,\"claimedHome\":false,\"invalidMRS\":false,\"businessMarketIds\":[90],\"countryCode\":\"US\",\"internalSearchVolume\":1},{\"id\":\"2_19481\",\"type\":\"2\",\"name\":\"Toronto\",\"subName\":\"Toronto, OH, USA\",\"url\":\"/city/19481/OH/Toronto\",\"active\":true,\"claimedHome\":false,\"invalidMRS\":false,\"businessMarketIds\":[76,116,36,73,75],\"countryCode\":\"US\",\"internalSearchVolume\":6},{\"id\":\"20_2924\",\"type\":\"20\",\"name\":\"Toronto\",\"subName\":\"Toronto, ON, Canada\",\"url\":\"/on/toronto\",\"active\":true,\"claimedHome\":false,\"invalidMRS\":false,\"businessMarketIds\":[98,103,99],\"countryCode\":\"CA\",\"internalSearchVolume\":9800},{\"id\":\"6_545623\",\"type\":\"6\",\"name\":\"Downtown Toronto\",\"subName\":\"Toronto, ON, Canada\",\"url\":\"/on/toronto/downtown-toronto\",\"active\":true,\"claimedHome\":false,\"invalidMRS\":false,\"businessMarketIds\":[98,103,99],\"countryCode\":\"CA\",\"internalSearchVolume\":644}],\"name\":\"Places\"},{\"rows\":[{\"id\":\"27_3482\",\"type\":\"27\",\"name\":\"Toronto City School District\",\"url\":\"/school-district/3482/OH/Toronto-City-School-District\",\"active\":true,\"claimedHome\":false,\"invalidMRS\":false,\"businessMarketIds\":[76,116,36,73,75],\"countryCode\":\"US\"},{\"id\":\"3_120164\",\"type\":\"3\",\"name\":\"Toronto High School\",\"subName\":\"Toronto, OH, USA\",\"url\":\"/school/120164/OH/Toronto/Toronto-High-School\",\"active\":true,\"claimedHome\":false,\"invalidMRS\":false,\"businessMarketIds\":[76,116,36,73,75],\"countryCode\":\"US\"},{\"id\":\"3_242284\",\"type\":\"3\",\"name\":\"Central Toronto Academy\",\"subName\":\"Toronto, ON, Canada\",\"url\":\"/on/school/central-toronto-academy/242284\",\"active\":true,\"claimedHome\":false,\"invalidMRS\":false,\"businessMarketIds\":[98,103,99],\"countryCode\":\"CA\"}],\"name\":\"Schools\"},{\"rows\":[{\"id\":\"10_438062\",\"type\":\"10\",\"name\":\"Toronto Agents\",\"subName\":\"Salt Lake City, UT, USA\",\"url\":\"/neighborhood/438062/UT/Salt-Lake-City/Toronto/real-estate/agents\",\"active\":true,\"claimedHome\":false,\"invalidMRS\":false,\"countryCode\":\"US\"},{\"id\":\"10_18156\",\"type\":\"10\",\"name\":\"Toronto Agents\",\"subName\":\"Toronto, KS, USA\",\"url\":\"/city/18156/KS/Toronto/real-estate/agents\",\"active\":true,\"claimedHome\":false,\"invalidMRS\":false,\"countryCode\":\"US\"},{\"id\":\"10_16338\",\"type\":\"10\",\"name\":\"Toronto Agents\",\"subName\":\"Toronto, SD, USA\",\"url\":\"/city/16338/SD/Toronto/real-estate/agents\",\"active\":true,\"claimedHome\":false,\"invalidMRS\":false,\"countryCode\":\"US\"}],\"name\":\"Agents\"}],\"extraResults\":{},\"responseTime\":0,\"hasFakeResults\":false,\"isGeocoded\":false,\"isRedfinServiced\":false}}\n"
     ]
    }
   ],
   "source": [
    "import http.client\n",
    "conn = http.client.HTTPSConnection(\"unofficial-redfin.p.rapidapi.com\")\n",
    "headers = {\n",
    "    'X-RapidAPI-Key': \"16bc101750msh59cecd93f09468fp157569jsn3d9bfb5a41cd\",\n",
    "    'X-RapidAPI-Host': \"unofficial-redfin.p.rapidapi.com\"\n",
    "}\n",
    "conn.request(\"GET\", \"/auto-complete?location=toronto\", headers=headers)\n",
    "res = conn.getresponse()\n",
    "data = res.read()\n",
    "print(data.decode(\"utf-8\"))"
   ]
  }
 ],
 "metadata": {
  "kernelspec": {
   "display_name": "Python 3 (ipykernel)",
   "language": "python",
   "name": "python3"
  },
  "language_info": {
   "codemirror_mode": {
    "name": "ipython",
    "version": 3
   },
   "file_extension": ".py",
   "mimetype": "text/x-python",
   "name": "python",
   "nbconvert_exporter": "python",
   "pygments_lexer": "ipython3",
   "version": "3.11.5"
  }
 },
 "nbformat": 4,
 "nbformat_minor": 4
}
