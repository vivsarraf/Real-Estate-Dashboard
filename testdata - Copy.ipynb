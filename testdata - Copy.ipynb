{
 "cells": [
  {
   "cell_type": "code",
   "execution_count": 3,
   "metadata": {},
   "outputs": [
    {
     "name": "stdout",
     "output_type": "stream",
     "text": [
      "{'cache_hit': False,\n",
      " 'cost_cents': 2.010000228881836,\n",
      " 'data': [{'address': '170 Powerline Road',\n",
      "           'bathroom_full': 2,\n",
      "           'bathroom_half': 0,\n",
      "           'bedroom': 3,\n",
      "           'city': 'Brant',\n",
      "           'construction_year': 1978,\n",
      "           'den': 0,\n",
      "           'estimate_list_price': 1023822,\n",
      "           'interior_sq_m': 104.58000183105469,\n",
      "           'latitude': 43.195011138916016,\n",
      "           'longitude': -80.2235107421875,\n",
      "           'postal_code': 'V0V0V0',\n",
      "           'property_id': 'cb83d5296f23be6a',\n",
      "           'province': 'Ontario',\n",
      "           'score_education': 9,\n",
      "           'score_food_and_drink': 10,\n",
      "           'score_shopping': 10,\n",
      "           'score_traffic': 10,\n",
      "           'score_transit': 9,\n",
      "           'score_walkability': 9}],\n",
      " 'error': '',\n",
      " 'pagination': {'current_page': 1,\n",
      "                'has_next_page': True,\n",
      "                'has_previous_page': False,\n",
      "                'page_total': 3780260},\n",
      " 'price_quote': False,\n",
      " 'result_total': 3780260,\n",
      " 'time_ms': 101,\n",
      " 'ui_info': {'country': 'Canada',\n",
      "             'country_abbreviation': 'CA',\n",
      "             'country_abbreviation_id': '9ace2b6431b7f1be',\n",
      "             'country_abbreviation_link': 'ca',\n",
      "             'country_slug': 'canada',\n",
      "             'province': 'Ontario',\n",
      "             'province_abbreviation': 'ON',\n",
      "             'province_abbreviation_id': '146699ee774499d3',\n",
      "             'province_abbreviation_link': 'ca/on',\n",
      "             'province_slug': 'ontario'}}\n"
     ]
    }
   ],
   "source": [
    "import json\n",
    "import requests\n",
    "import pprint\n",
    "params = {}\n",
    "params['api_key'] = '698c8c20-7e89-4f9b-a8c0-ac7fd9d76313'\n",
    "params['country_abbreviation'] = 'ca'\n",
    "params['province_abbreviation'] = 'on'\n",
    "params['results_per_page'] = '1'\n",
    "params['select'] = 'address,latitude,longitude,city,province,postal_code,estimate_list_price,interior_sq_m,bedroom,den,bathroom_full,bathroom_half,construction_year,property_taxes,score_education,score_food_and_drink,score_shopping,score_traffic,score_transit,score_walkability'\n",
    "response = requests.get('https://api.houski.ca/properties', params=params)\n",
    "if response.status_code == 200:\n",
    "    json_data = response.json()\n",
    "    pprint.pprint(json_data)\n",
    "else:\n",
    "    print(f'Failed to get data: {response}')"
   ]
  }
 ],
 "metadata": {
  "kernelspec": {
   "display_name": "Python 3 (ipykernel)",
   "language": "python",
   "name": "python3"
  },
  "language_info": {
   "codemirror_mode": {
    "name": "ipython",
    "version": 3
   },
   "file_extension": ".py",
   "mimetype": "text/x-python",
   "name": "python",
   "nbconvert_exporter": "python",
   "pygments_lexer": "ipython3",
   "version": "3.11.5"
  }
 },
 "nbformat": 4,
 "nbformat_minor": 4
}
