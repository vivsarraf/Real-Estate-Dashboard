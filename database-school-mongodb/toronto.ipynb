{
 "cells": [
  {
   "cell_type": "markdown",
   "metadata": {},
   "source": [
    "# Introduction to Mongo"
   ]
  },
  {
   "cell_type": "code",
   "execution_count": 1,
   "metadata": {},
   "outputs": [],
   "source": [
    "from pymongo import MongoClient"
   ]
  },
  {
   "cell_type": "code",
   "execution_count": 2,
   "metadata": {},
   "outputs": [],
   "source": [
    "# Create an instance of MongoClient\n",
    "mongo = MongoClient(port=27017)"
   ]
  },
  {
   "cell_type": "code",
   "execution_count": 3,
   "metadata": {},
   "outputs": [
    {
     "name": "stdout",
     "output_type": "stream",
     "text": [
      "['admin', 'annual_county', 'autosaurus', 'classDB', 'config', 'first_db', 'fruits_db', 'local', 'met', 'petsitly_marketing', 'toronto-schools', 'uk_food']\n"
     ]
    }
   ],
   "source": [
    "# confirm that our new database was created\n",
    "print(mongo.list_database_names())"
   ]
  },
  {
   "cell_type": "code",
   "execution_count": 4,
   "metadata": {},
   "outputs": [],
   "source": [
    "# assign the database to a variable name\n",
    "db = mongo['toronto-schools']"
   ]
  },
  {
   "cell_type": "code",
   "execution_count": 5,
   "metadata": {},
   "outputs": [
    {
     "name": "stdout",
     "output_type": "stream",
     "text": [
      "['schools']\n"
     ]
    }
   ],
   "source": [
    "# review the collections in our new database\n",
    "print(db.list_collection_names())"
   ]
  },
  {
   "cell_type": "code",
   "execution_count": 8,
   "metadata": {},
   "outputs": [
    {
     "name": "stdout",
     "output_type": "stream",
     "text": [
      "{'_id': 2, 'OBJECTID': 2, 'GEO_ID': 524780, 'NAME': 'A R S ARMENIAN PRIVATE SCHOOL', 'SOURCE_ADDRESS': '50 HALLCROWN PL', 'SCHOOL_TYPE_DESC': 'Private', 'ADDRESS_POINT_ID': 524780, 'LINEAR_NAME_FULL': 'Hallcrown Pl', 'ADDRESS_FULL': '50 Hallcrown Pl', 'POSTAL_CODE': 'M2J 1P7', 'MUNICIPALITY': 'North York', 'CITY': 'Toronto', 'GENERAL_USE_CODE': 104008, 'LONG': -79.323156147744, 'LAT': 43.770053062482}\n"
     ]
    }
   ],
   "source": [
    "# review a document in the customer_list collection\n",
    "print(db.schools.find_one())"
   ]
  },
  {
   "cell_type": "code",
   "execution_count": 9,
   "metadata": {},
   "outputs": [],
   "source": [
    "# assign the collection to a variable\n",
    "school_list = db['schools']"
   ]
  },
  {
   "cell_type": "code",
   "execution_count": 10,
   "metadata": {},
   "outputs": [
    {
     "name": "stdout",
     "output_type": "stream",
     "text": [
      "{'_id': 2, 'OBJECTID': 2, 'GEO_ID': 524780, 'NAME': 'A R S ARMENIAN PRIVATE SCHOOL', 'SOURCE_ADDRESS': '50 HALLCROWN PL', 'SCHOOL_TYPE_DESC': 'Private', 'ADDRESS_POINT_ID': 524780, 'LINEAR_NAME_FULL': 'Hallcrown Pl', 'ADDRESS_FULL': '50 Hallcrown Pl', 'POSTAL_CODE': 'M2J 1P7', 'MUNICIPALITY': 'North York', 'CITY': 'Toronto', 'GENERAL_USE_CODE': 104008, 'LONG': -79.323156147744, 'LAT': 43.770053062482}\n"
     ]
    }
   ],
   "source": [
    "# Filter results by name\n",
    "query = {'POSTAL_CODE': 'M2J 1P7'}\n",
    "results = school_list.find(query)\n",
    "for result in results:\n",
    "    print(result)"
   ]
  }
 ],
 "metadata": {
  "kernelspec": {
   "display_name": "Python 3",
   "language": "python",
   "name": "python3"
  },
  "language_info": {
   "codemirror_mode": {
    "name": "ipython",
    "version": 3
   },
   "file_extension": ".py",
   "mimetype": "text/x-python",
   "name": "python",
   "nbconvert_exporter": "python",
   "pygments_lexer": "ipython3",
   "version": "3.12.1"
  }
 },
 "nbformat": 4,
 "nbformat_minor": 2
}
